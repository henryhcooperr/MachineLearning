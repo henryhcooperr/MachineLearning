{
 "cells": [
  {
   "cell_type": "code",
   "execution_count": 14,
   "metadata": {},
   "outputs": [
    {
     "name": "stdout",
     "output_type": "stream",
     "text": [
      "    164\n",
      "0   158\n",
      "1   172\n",
      "2   153\n",
      "3   144\n",
      "4   156\n",
      "5   189\n",
      "6   163\n",
      "7   134\n",
      "8   159\n",
      "9   143\n",
      "10  176\n",
      "11  177\n",
      "12  162\n",
      "13  141\n",
      "14  151\n",
      "15  182\n",
      "16  185\n",
      "17  171\n",
      "18  152\n"
     ]
    }
   ],
   "source": [
    "import pandas as pd\n",
    "\n",
    "weight = pd.read_csv('weights.tsv', sep='\\t')\n",
    "\n",
    "\n",
    "print(weight)"
   ]
  },
  {
   "cell_type": "markdown",
   "metadata": {},
   "source": [
    "1.2 Create a new series object with weights converted to kilograms from pounds (1 pound = 0.453592 kilograms). Round the results to two decimal places. (4 points) "
   ]
  },
  {
   "cell_type": "code",
   "execution_count": 44,
   "metadata": {},
   "outputs": [
    {
     "name": "stdout",
     "output_type": "stream",
     "text": [
      "0     74.39\n",
      "1     71.67\n",
      "2     78.02\n",
      "3     69.40\n",
      "4     65.32\n",
      "5     70.76\n",
      "6     85.73\n",
      "7     73.94\n",
      "8     60.78\n",
      "9     72.12\n",
      "10    64.86\n",
      "11    79.83\n",
      "12    80.29\n",
      "13    73.48\n",
      "14    63.96\n",
      "15    68.49\n",
      "16    82.55\n",
      "17    83.91\n",
      "18    77.56\n",
      "19    68.95\n",
      "Name: weight, dtype: float64\n"
     ]
    }
   ],
   "source": [
    "import pandas as pd\n",
    "import numpy as np\n",
    "weight = pd.read_csv('weights.tsv', sep='\\t', header=None, names=['weight'])\n",
    "\n",
    "weight_in_kg = weight['weight']*0.453592\n",
    "weight_in_kg = np.round(weight_in_kg, 2)\n",
    "\n",
    "print(weight_in_kg)"
   ]
  },
  {
   "cell_type": "markdown",
   "metadata": {},
   "source": [
    "1.3 Find the mean, median, and standard deviation of both series objects using Pandas functions. (4 points) \n"
   ]
  },
  {
   "cell_type": "code",
   "execution_count": 120,
   "metadata": {},
   "outputs": [
    {
     "name": "stdout",
     "output_type": "stream",
     "text": [
      "Weight in kg\n",
      "mean:  73.3\n",
      "median:  72.8\n",
      "std:  7.01\n",
      "Weight in lbs\n",
      "mean:  161.6\n",
      "median:  160.5\n",
      "std:  15.45\n"
     ]
    }
   ],
   "source": [
    "import pandas as pd\n",
    "import numpy as np\n",
    "weight = pd.read_csv('weights.tsv', sep='\\t', header=None, names=['weight'])\n",
    "weight_in_kg = weight['weight']*0.453592\n",
    "\n",
    "\n",
    "print(\"Weight in kg\")\n",
    "print(\"mean: \", round(weight_in_kg.mean(), 2))\n",
    "print(\"median: \", round(weight_in_kg.median(), 2))\n",
    "print(\"std: \", round(weight_in_kg.std(), 2))\n",
    "\n",
    "print(\"Weight in lbs\")\n",
    "print(\"mean: \", round(weight['weight'].mean(), 2))\n",
    "print(\"median: \", round(weight['weight'].median(), 2))\n",
    "print(\"std: \", round(weight['weight'].std(), 2))"
   ]
  },
  {
   "cell_type": "markdown",
   "metadata": {},
   "source": [
    "1.4 Plot a histogram of weight (in kilograms) using matplotlib library with 10 bins.\n"
   ]
  },
  {
   "cell_type": "code",
   "execution_count": 53,
   "metadata": {},
   "outputs": [
    {
     "data": {
      "text/plain": [
       "(array([1., 3., 0., 3., 3., 3., 2., 2., 1., 2.]),\n",
       " array([60.781328, 63.276084, 65.77084 , 68.265596, 70.760352, 73.255108,\n",
       "        75.749864, 78.24462 , 80.739376, 83.234132, 85.728888]),\n",
       " <BarContainer object of 10 artists>)"
      ]
     },
     "execution_count": 53,
     "metadata": {},
     "output_type": "execute_result"
    },
    {
     "data": {
      "image/png": "[encoded data removed]",
      "text/plain": [
       "<Figure size 640x480 with 1 Axes>"
      ]
     },
     "metadata": {},
     "output_type": "display_data"
    }
   ],
   "source": [
    "import pandas as pd\n",
    "import numpy as np\n",
    "import matplotlib.pyplot as plt\n",
    "\n",
    "weight = pd.read_csv('weights.tsv', sep='\\t', header=None, names=['weight'])\n",
    "weight_in_kg = weight['weight']*0.453592\n",
    "plt.hist(weight_in_kg, bins=10)"
   ]
  },
  {
   "cell_type": "markdown",
   "metadata": {},
   "source": [
    "2.0 For this problem statement, you are given a dataset named “boston.csv”. This dataset contains information collected by the US Census Service concerning housing in the areas of Boston, Mass. The data was originally published by Harrison, D., & Rubinfeld, D.L. (1978). Hedonic prices and the demand for clean air. Journal of Environmental Economics and Management,5,81–102.\n"
   ]
  },
  {
   "cell_type": "markdown",
   "metadata": {},
   "source": [
    "2.1 Import the dataset “boston.csv” into a Pandas dataframe and obtain the number of rows and columns for the dataframe. (3 points) \n"
   ]
  },
  {
   "cell_type": "code",
   "execution_count": 58,
   "metadata": {},
   "outputs": [
    {
     "name": "stdout",
     "output_type": "stream",
     "text": [
      "Number of columns:  13\n",
      "Number of rows:  506\n"
     ]
    }
   ],
   "source": [
    "import pandas as pd\n",
    "\n",
    "dataset = pd.read_csv('boston.csv')\n",
    "num_columns = len(dataset.columns)\n",
    "num_rows = len(dataset)\n",
    "\n",
    "print(\"Number of columns: \", num_columns)\n",
    "print(\"Number of rows: \", num_rows)"
   ]
  },
  {
   "cell_type": "markdown",
   "metadata": {},
   "source": [
    "2.2 What is the owner-occupied home value (MEDV) for the lowest nitric oxide concentration (NOX) from the dataframe? (3 points) \n"
   ]
  },
  {
   "cell_type": "code",
   "execution_count": 72,
   "metadata": {},
   "outputs": [
    {
     "name": "stdout",
     "output_type": "stream",
     "text": [
      "MEDV at min NOX:  20.1\n"
     ]
    }
   ],
   "source": [
    "import pandas as pd\n",
    "dataset = pd.read_csv('boston.csv')\n",
    "min_nox_index = dataset['NOX'].idxmin()\n",
    "MEDVatMinNox = dataset.loc[min_nox_index, 'MEDV']\n",
    "print(\"MEDV at min NOX: \", MEDVatMinNox)\n"
   ]
  },
  {
   "cell_type": "markdown",
   "metadata": {},
   "source": [
    "2.3 Create a boxplot of per capita crime rate (CRIM) using Matplotlib. Obtain the interquartile range for crime rate (CRIM) using Pandas functions. (4 points) \n"
   ]
  },
  {
   "cell_type": "code",
   "execution_count": 85,
   "metadata": {},
   "outputs": [
    {
     "name": "stdout",
     "output_type": "stream",
     "text": [
      "Interquartile Range (IQR): 3.5950375\n"
     ]
    },
    {
     "data": {
      "text/plain": [
       "Text(0.5, 1.0, 'Boxplot of Per Capita Crime Rate')"
      ]
     },
     "execution_count": 85,
     "metadata": {},
     "output_type": "execute_result"
    },
    {
     "data": {
      "image/png": "[encoded data removed]",
      "text/plain": [
       "<Figure size 640x480 with 1 Axes>"
      ]
     },
     "metadata": {},
     "output_type": "display_data"
    }
   ],
   "source": [
    "import matplotlib.pyplot as plt\n",
    "import pandas as pd\n",
    "import numpy as np\n",
    "dataset = pd.read_csv('boston.csv')\n",
    "\n",
    "Q1 = dataset['CRIM'].quantile(0.25)\n",
    "Q3 = dataset['CRIM'].quantile(0.75)\n",
    "\n",
    "IQR = Q3-Q1\n",
    "\n",
    "print(\"Interquartile Range (IQR):\", IQR)\n",
    "\n",
    "plt.boxplot(dataset['CRIM'])\n",
    "plt.title('Boxplot of Per Capita Crime Rate')"
   ]
  },
  {
   "cell_type": "markdown",
   "metadata": {},
   "source": [
    "2.4 Subset all columns of the dataframe for rows with outliers of crime rate into a new dataframe. Compare the mean of AGE between the two dataframes with respect to crime rate, what do you interpret? (Hint: Outliers exist 1.5 times of interquartile range above third quartile and below first quartile) (4 points) "
   ]
  },
  {
   "cell_type": "code",
   "execution_count": 122,
   "metadata": {},
   "outputs": [
    {
     "name": "stdout",
     "output_type": "stream",
     "text": [
      "mean of age where the crimerate is an outlier:  94.23333333333335\n",
      "mean of age of the entire dataset  68.57490118577076\n"
     ]
    }
   ],
   "source": [
    "import matplotlib.pyplot as plt\n",
    "import pandas as pd\n",
    "import numpy as np\n",
    "dataset = pd.read_csv('boston.csv')\n",
    "Q1 = dataset['CRIM'].quantile(0.25)\n",
    "Q3 = dataset['CRIM'].quantile(0.75)\n",
    "\n",
    "IQR = Q3-Q1\n",
    "\n",
    "lower_threshold = Q1 - 1.5 * IQR\n",
    "upper_threshold = Q3 + 1.5 * IQR\n",
    "\n",
    "outliers = dataset[(dataset['CRIM'] < lower_threshold) | (dataset['CRIM'] > upper_threshold)]\n",
    "\n",
    "print(\"mean of age where the crimerate is an outlier: \", (outliers['AGE'].mean()))\n",
    "print(\"mean of age of the entire dataset \", (dataset['AGE']).mean())\n",
    "\n"
   ]
  },
  {
   "cell_type": "markdown",
   "metadata": {},
   "source": [
    "The fact that the mean age in areas with outlier crime rates is significantly higher suggests that areas with extreme crime rates (either very high or very low) tend to have much older populations. This could mean that either crime rates are especially high or low in neighborhoods with a larger proportion of older residents.\n"
   ]
  },
  {
   "cell_type": "markdown",
   "metadata": {},
   "source": [
    "2.5 Create scatterplot between distances to employment centers (DIS) and nitric oxide levels (NOX). Obtain correlation index between the two columns and interpret their relation. (4 points) "
   ]
  },
  {
   "cell_type": "code",
   "execution_count": 111,
   "metadata": {},
   "outputs": [
    {
     "name": "stdout",
     "output_type": "stream",
     "text": [
      "correlation coefficient:  -0.5344315844084571\n"
     ]
    },
    {
     "data": {
      "image/png": "[encoded data removed]",
      "text/plain": [
       "<Figure size 640x480 with 1 Axes>"
      ]
     },
     "metadata": {},
     "output_type": "display_data"
    }
   ],
   "source": [
    "import matplotlib.pyplot as plt\n",
    "import pandas as pd\n",
    "dataset = pd.read_csv('boston.csv')\n",
    "correlation = dataset['DIS'].corr(dataset['TAX'])\n",
    "print(\"correlation coefficient: \", correlation)\n",
    "plt.scatter(dataset['DIS'], dataset['TAX'])\n",
    "plt.show()\n"
   ]
  },
  {
   "cell_type": "markdown",
   "metadata": {},
   "source": [
    "From this correlation coefficent I know that there is a negative correlation between distances to employment centers and nitric oxide levels"
   ]
  },
  {
   "cell_type": "markdown",
   "metadata": {},
   "source": [
    "2.6: Similarly, create a scatterplot between highway accessibility index (RAD) and property tax rate (TAX). Obtain correlation index, compare it to the scatter-plot, and interpret the relation between RAD and TAX. Take appropriate action on the data based on your observation. (6 points)"
   ]
  },
  {
   "cell_type": "code",
   "execution_count": 117,
   "metadata": {},
   "outputs": [
    {
     "name": "stdout",
     "output_type": "stream",
     "text": [
      "correlation:  0.9102281885331849\n"
     ]
    },
    {
     "data": {
      "image/png": "[encoded data removed]",
      "text/plain": [
       "<Figure size 640x480 with 1 Axes>"
      ]
     },
     "metadata": {},
     "output_type": "display_data"
    }
   ],
   "source": [
    "import matplotlib.pyplot as plt\n",
    "import pandas as pd\n",
    "dataset = pd.read_csv('boston.csv')\n",
    "plt.scatter(dataset['RAD'], dataset['TAX'])\n",
    "correlation = dataset['RAD'].corr(dataset['TAX'])\n",
    "print(\"correlation: \", correlation)\n",
    "plt.show()"
   ]
  },
  {
   "cell_type": "markdown",
   "metadata": {},
   "source": [
    "A correlation coefficient of 0.91 indicates a strong positive relationship between highway accessibility and property tax rates. This means that areas with higher highway accessibility tend to have higher property tax rates, and vice versa."
   ]
  },
  {
   "cell_type": "markdown",
   "metadata": {},
   "source": [
    "3. We will be using the “tips” dataset from seaborn package for this problem statement.\n",
    "This dataset contains information about restaurant bills and tips made by people\n",
    "classified by their gender along with few other attributes which are self-explanatory. You\n",
    "can import this dataset into a pandas dataframe as follows:"
   ]
  },
  {
   "cell_type": "markdown",
   "metadata": {},
   "source": [
    "3.1 Calculate percentage of tip amounts for bill totals, rounded to two decimal places\n",
    "and create a new column “tip_percent” in the same dataframe. (3 points)"
   ]
  },
  {
   "cell_type": "code",
   "execution_count": 129,
   "metadata": {},
   "outputs": [
    {
     "name": "stdout",
     "output_type": "stream",
     "text": [
      "     total_bill   tip     sex smoker   day    time  size  tip_percentage\n",
      "0         16.99  1.01  Female     No   Sun  Dinner     2           16.82\n",
      "1         10.34  1.66    Male     No   Sun  Dinner     3            6.23\n",
      "2         21.01  3.50    Male     No   Sun  Dinner     3            6.00\n",
      "3         23.68  3.31    Male     No   Sun  Dinner     2            7.15\n",
      "4         24.59  3.61  Female     No   Sun  Dinner     4            6.81\n",
      "..          ...   ...     ...    ...   ...     ...   ...             ...\n",
      "239       29.03  5.92    Male     No   Sat  Dinner     3            4.90\n",
      "240       27.18  2.00  Female    Yes   Sat  Dinner     2           13.59\n",
      "241       22.67  2.00    Male    Yes   Sat  Dinner     2           11.34\n",
      "242       17.82  1.75    Male     No   Sat  Dinner     2           10.18\n",
      "243       18.78  3.00  Female     No  Thur  Dinner     2            6.26\n",
      "\n",
      "[244 rows x 8 columns]\n"
     ]
    }
   ],
   "source": [
    "import seaborn as sns\n",
    "import pandas as pd\n",
    "tips_dataset = sns.load_dataset('tips')\n",
    "tips_dataset['tip_percentage'] = (tips_dataset['total_bill'] / tips_dataset['tip']).round(2)\n",
    "print(tips_dataset)\n"
   ]
  },
  {
   "cell_type": "markdown",
   "metadata": {},
   "source": [
    "For what days in the week do we have the data, and which day has the highest bill mean? (Hint: lookup for “groupby” in pandas documentation) (3 points)"
   ]
  },
  {
   "cell_type": "code",
   "execution_count": 149,
   "metadata": {},
   "outputs": [
    {
     "name": "stdout",
     "output_type": "stream",
     "text": [
      "day\n",
      "Thur    17.682742\n",
      "Fri     17.151579\n",
      "Sat     20.441379\n",
      "Sun     21.410000\n",
      "Name: total_bill, dtype: float64\n"
     ]
    },
    {
     "name": "stderr",
     "output_type": "stream",
     "text": [
      "/var/folders/gv/q00n_g1j1mn1yp2cjljl92440000gn/T/ipykernel_59941/4072739180.py:5: FutureWarning: The default of observed=False is deprecated and will be changed to True in a future version of pandas. Pass observed=False to retain current behavior or observed=True to adopt the future default and silence this warning.\n",
      "  grouped = tips_dataset.groupby('day')['total_bill'].mean()\n"
     ]
    }
   ],
   "source": [
    "import seaborn as sns\n",
    "import pandas as pd\n",
    "tips_dataset = sns.load_dataset('tips')\n",
    "days_of_week = tips_dataset['day'].unique()\n",
    "grouped = tips_dataset.groupby('day')['total_bill'].mean()\n",
    "print(grouped)"
   ]
  },
  {
   "cell_type": "markdown",
   "metadata": {},
   "source": [
    "3.3 Are there more dinners or lunches? Create a dataframe with this data. Are there\n",
    "more smokers during lunches or dinners? Create another dataframe with this\n",
    "data. Join the two dataframes by time of day and calculate the percent of\n",
    "smokers at lunch and dinner. Compare the results. (6 points)"
   ]
  },
  {
   "cell_type": "code",
   "execution_count": 1,
   "metadata": {},
   "outputs": [
    {
     "name": "stdout",
     "output_type": "stream",
     "text": [
      "244\n"
     ]
    },
    {
     "name": "stderr",
     "output_type": "stream",
     "text": [
      "/var/folders/gv/q00n_g1j1mn1yp2cjljl92440000gn/T/ipykernel_8122/4259318723.py:8: FutureWarning: The default of observed=False is deprecated and will be changed to True in a future version of pandas. Pass observed=False to retain current behavior or observed=True to adopt the future default and silence this warning.\n",
      "  group = sum(df.groupby(['smoker', 'time']).size())\n"
     ]
    }
   ],
   "source": [
    "import seaborn as sns\n",
    "import pandas as pd\n",
    "tips_dataset = sns.load_dataset('tips')\n",
    "\n",
    "df = pd.DataFrame() \n",
    "df['smoker'] = tips_dataset['smoker']\n",
    "df['time'] = tips_dataset['time']\n",
    "group = df.groupby(['smoker', 'time']).size()\n",
    "print(group)"
   ]
  }
 ],
 "metadata": {
  "kernelspec": {
   "display_name": "base",
   "language": "python",
   "name": "python3"
  },
  "language_info": {
   "codemirror_mode": {
    "name": "ipython",
    "version": 3
   },
   "file_extension": ".py",
   "mimetype": "text/x-python",
   "name": "python",
   "nbconvert_exporter": "python",
   "pygments_lexer": "ipython3",
   "version": "3.11.5"
  }
 },
 "nbformat": 4,
 "nbformat_minor": 2
}
